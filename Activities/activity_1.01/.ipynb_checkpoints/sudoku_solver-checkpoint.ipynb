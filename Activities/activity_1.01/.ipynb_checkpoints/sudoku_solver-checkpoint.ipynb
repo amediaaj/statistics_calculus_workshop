{
 "cells": [
  {
   "cell_type": "code",
   "execution_count": 75,
   "id": "5ba7694a",
   "metadata": {},
   "outputs": [],
   "source": [
    "class Solver:\n",
    "    try:\n",
    "        def __init__(self, filepath):\n",
    "            with open(filepath, \"r\") as file:\n",
    "                matrix = [[int(j) for j in i.split(',')] for i in file]\n",
    "                       \n",
    "#         if __name__ == '__main__':\n",
    "#             print('Hello Solver class!')\n",
    "    except:\n",
    "        print(\"Something went wrong when opening the file\")"
   ]
  },
  {
   "cell_type": "code",
   "execution_count": 76,
   "id": "2f034b59",
   "metadata": {},
   "outputs": [
    {
     "name": "stdout",
     "output_type": "stream",
     "text": [
      "[[0, 0, 3, 0, 2, 0, 6, 0, 0], [9, 0, 0, 3, 0, 5, 0, 0, 1], [0, 0, 1, 8, 0, 6, 4, 0, 0], [0, 0, 8, 1, 0, 2, 9, 0, 0], [7, 0, 0, 0, 0, 0, 0, 0, 8], [0, 0, 6, 7, 0, 8, 2, 0, 0], [0, 0, 2, 6, 0, 9, 5, 0, 0], [8, 0, 0, 2, 0, 3, 0, 0, 9], [0, 0, 5, 0, 1, 0, 3, 0, 0]]\n"
     ]
    },
    {
     "data": {
      "text/plain": [
       "<__main__.Solver at 0x10a202090>"
      ]
     },
     "execution_count": 76,
     "metadata": {},
     "output_type": "execute_result"
    }
   ],
   "source": [
    "Solver(\"./sudoku_input/sudoku_input_2.txt\")"
   ]
  },
  {
   "cell_type": "code",
   "execution_count": null,
   "id": "cb4093f5",
   "metadata": {},
   "outputs": [],
   "source": []
  }
 ],
 "metadata": {
  "kernelspec": {
   "display_name": "Python 3 (ipykernel)",
   "language": "python",
   "name": "python3"
  },
  "language_info": {
   "codemirror_mode": {
    "name": "ipython",
    "version": 3
   },
   "file_extension": ".py",
   "mimetype": "text/x-python",
   "name": "python",
   "nbconvert_exporter": "python",
   "pygments_lexer": "ipython3",
   "version": "3.11.7"
  }
 },
 "nbformat": 4,
 "nbformat_minor": 5
}
