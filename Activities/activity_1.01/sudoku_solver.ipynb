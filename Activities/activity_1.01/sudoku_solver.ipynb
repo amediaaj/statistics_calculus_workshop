{
 "cells": [
  {
   "cell_type": "code",
   "execution_count": null,
   "id": "08db7e44",
   "metadata": {},
   "outputs": [],
   "source": [
    "import numpy as np"
   ]
  },
  {
   "cell_type": "code",
   "execution_count": null,
   "id": "5ba7694a",
   "metadata": {},
   "outputs": [],
   "source": [
    "class Solver:\n",
    "    def __init__(self, filepath):\n",
    "        try:\n",
    "            with open(filepath, \"r\") as file:\n",
    "                matrix = np.array([[int(j) for j in i.split(',')] for i in file])\n",
    "                print(matrix)\n",
    "                \n",
    "            recur_generate_solution(matrix)\n",
    "        except:\n",
    "            print(\"Something went wrong when opening the file\")\n",
    "            \n",
    "    # Check if a number can be placed in the position.\n",
    "    def check_next(board, row, col, number):\n",
    "        if board[row][col] != 0:\n",
    "            return False\n",
    "        \n",
    "        initial_row = row\n",
    "        initial_col = col\n",
    "        while initial_row % 3 != 0:\n",
    "            initial_row -= 1\n",
    "        \n",
    "        while initial_col % 3 != 0:\n",
    "            initial_col -= 1\n",
    "            \n",
    "        # Check the current column.\n",
    "        for i in range(row):\n",
    "            if board[i][col] == number:\n",
    "                return False\n",
    "         # Check the current row.\n",
    "        for i in range(col):\n",
    "            if board[row][i] == number:\n",
    "                return False\n",
    "        # Check the current cell.\n",
    "        for i in range(3):\n",
    "            for j in range(3):\n",
    "                if board[initial_row + i][initial_col + j] == number:\n",
    "                    return False\n",
    "                \n",
    "    def recur_generate_solution(board, row=0, col=0):\n",
    "        N=9\n",
    "        \n",
    "        # Return if we have reached the last row\n",
    "        if row >= N:\n",
    "            return True\n",
    "        \n",
    "        # Iteratively try out cells in the current row.\n",
    "        for i in range(col, N):\n",
    "            for j in range(N):\n",
    "                if check_next(board, row, i, j):\n",
    "                    board[row][i] = j \n",
    "                    # Return if a valid solution is found.\n",
    "                    if i<N:\n",
    "                        final_board = recur_generate_solution(board, row, col+1)\n",
    "                    else:\n",
    "                        final_board = recur_generate_solution(board, row+1, 0)\n",
    "                        \n",
    "                if final_board:\n",
    "                    return True\n",
    "                board[row][i] = j\n",
    "                \n",
    "        # When the current board has no valid solutions.\n",
    "        return False"
   ]
  },
  {
   "cell_type": "code",
   "execution_count": null,
   "id": "cb4093f5",
   "metadata": {},
   "outputs": [],
   "source": [
    "class SudokuBoard:\n",
    "    def __init__(self):\n",
    "        board = np.array([[0 for j in range(9)] for i in range(9)])\n",
    "        print('-----------------------')\n",
    "        for row_index, row in enumerate(board):\n",
    "            for col_index, col in enumerate(row):\n",
    "                if col_index % 3 == 0 and col_index > 1:\n",
    "                    print('| ', end='')\n",
    "\n",
    "                if(col_index != len(row)-1):\n",
    "                    to_print = str(col) + ' '\n",
    "                else:\n",
    "                    to_print = str(col)\n",
    "                print(to_print, end='')\n",
    "            print('\\n')\n",
    "            if row_index % 3 == 2:\n",
    "                print('-----------------------\\n')"
   ]
  },
  {
   "cell_type": "code",
   "execution_count": null,
   "id": "2f034b59",
   "metadata": {},
   "outputs": [],
   "source": [
    "Solver(\"./sudoku_input/sudoku_input_2.txt\")"
   ]
  },
  {
   "cell_type": "markdown",
   "id": "961d2b39",
   "metadata": {},
   "source": [
    "# Test Commit DK"
   ]
  },
  {
   "cell_type": "code",
   "execution_count": null,
   "id": "9e05916f",
   "metadata": {},
   "outputs": [],
   "source": []
  }
 ],
 "metadata": {
  "kernelspec": {
   "display_name": "Python 3 (ipykernel)",
   "language": "python",
   "name": "python3"
  },
  "language_info": {
   "codemirror_mode": {
    "name": "ipython",
    "version": 3
   },
   "file_extension": ".py",
   "mimetype": "text/x-python",
   "name": "python",
   "nbconvert_exporter": "python",
   "pygments_lexer": "ipython3",
   "version": "3.11.7"
  }
 },
 "nbformat": 4,
 "nbformat_minor": 5
}
